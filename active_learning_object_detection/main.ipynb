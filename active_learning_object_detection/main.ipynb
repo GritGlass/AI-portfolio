{
 "cells": [
  {
   "cell_type": "code",
   "execution_count": null,
   "id": "d56e1033",
   "metadata": {},
   "outputs": [],
   "source": [
    "from src.ATL import ActiveLearning as AL"
   ]
  },
  {
   "cell_type": "code",
   "execution_count": null,
   "id": "8c10d974",
   "metadata": {},
   "outputs": [],
   "source": [
    "TL_param='D:/OBJ_PAPER/model_param/model_fasterrcnn_bach5_p10_50_param.pt'\n",
    "save_param_path='D:/OBJ_PAPER/model_param/FRCN_AL1_batch30_total{}_{}_{}param.pt'\n",
    "result_path='D:/OBJ_PAPER/result/FRCN_AL1_batch30_total{}_{}_{}_result.csv'\n",
    "sample_path='D:/OBJ_PAPER/result/FRCN_AL1_batch30_total{}_{}_{}_sampled.csv'\n",
    "img_foler_path='D:/OBJ_PAPER/Data/itb_p_500/'\n",
    "\n",
    "confidence=0.5\n",
    "batch=30\n",
    "total=180\n",
    "\n",
    "result_save=False\n",
    "\n",
    "Method=[\n",
    "     'class_difficulty',\n",
    "     'class_ambiguity',]\n",
    "\n",
    "a=[0.7,0.9]\n",
    "b=[0.1,0.5]\n",
    "c=[0.7,0.9]\n",
    "\n",
    "\n",
    "al=AL(TL_param,confidence,batch,img_foler_path)\n",
    "\n",
    "\n",
    "for method in Method:\n",
    "    if method=='uncertainty':\n",
    "        for a_param in a:\n",
    "            print('total:',total,'method:',method,'a_param:',a_param)\n",
    "            method_param=[a_param,0.3,0.5]\n",
    "            al.run(total,method,method_param,a_param,TL_param,save_param_path,result_path,result_save,save_param_path)\n",
    "            \n",
    "    elif method=='class_difficulty':\n",
    "        for b_param in b:\n",
    "            print('total:',total,'method:',method,'b_param:',b_param)\n",
    "            method_param=[0.5,b_param,0.5]\n",
    "            al.run(total,method,method_param,b_param,TL_param,save_param_path,result_path,result_save,save_param_path)\n",
    "            \n",
    "    elif method=='class_ambiguity':\n",
    "        for c_param in c:\n",
    "            print('total:',total,'method:',method,'c_param:',c_param)\n",
    "            method_param=[0.5,0.3,c_param]\n",
    "            al.run(total,method,method_param,c_param,TL_param,save_param_path,result_path,result_save,save_param_path)         "
   ]
  }
 ],
 "metadata": {
  "kernelspec": {
   "display_name": "opencv",
   "language": "python",
   "name": "python3"
  },
  "language_info": {
   "codemirror_mode": {
    "name": "ipython",
    "version": 3
   },
   "file_extension": ".py",
   "mimetype": "text/x-python",
   "name": "python",
   "nbconvert_exporter": "python",
   "pygments_lexer": "ipython3",
   "version": "3.12.0"
  }
 },
 "nbformat": 4,
 "nbformat_minor": 5
}
