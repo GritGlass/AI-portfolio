{
 "cells": [
  {
   "cell_type": "code",
   "execution_count": 1,
   "id": "a69af572",
   "metadata": {},
   "outputs": [],
   "source": [
    "import pandas as pd\n",
    "import numpy as np\n",
    "import os\n",
    "import math\n",
    "import matplotlib.pyplot as plt\n",
    "import seaborn as sns\n",
    "import plotly.express as px\n",
    "import glob\n",
    "import wandb as wb\n",
    "from src.MetaHeauristic import WandbHandler, OBP\n",
    "import re, logging\n",
    "import time"
   ]
  },
  {
   "cell_type": "code",
   "execution_count": 2,
   "id": "bb29b7ce",
   "metadata": {},
   "outputs": [
    {
     "name": "stderr",
     "output_type": "stream",
     "text": [
      "wandb: Currently logged in as: glasshan914 (glasshan9140) to https://api.wandb.ai. Use `wandb login --relogin` to force relogin\n"
     ]
    },
    {
     "data": {
      "text/plain": [
       "True"
      ]
     },
     "execution_count": 2,
     "metadata": {},
     "output_type": "execute_result"
    }
   ],
   "source": [
    "wb.login()"
   ]
  },
  {
   "cell_type": "code",
   "execution_count": 3,
   "id": "da918e44",
   "metadata": {},
   "outputs": [
    {
     "name": "stdout",
     "output_type": "stream",
     "text": [
      "total files: 959\n"
     ]
    }
   ],
   "source": [
    "folder_list=glob.glob('E:/glass_git/AI-portfolio/order_batch_picking/data/Orderlinelist/*.txt')\n",
    "dist_matrix=pd.read_pickle('E:/glass_git/AI-portfolio/order_batch_picking/data/Distance matrix/dist_matrix.pkl')\n",
    "dist_matrix=dist_matrix.to_numpy()\n",
    "\n",
    "datasets=[]\n",
    "for file in folder_list:\n",
    "    df=pd.read_csv(file,sep='\\t',header=None)\n",
    "    cols=['order_num','index','rack','bay','tier','slot']\n",
    "    df.columns=cols\n",
    "    datasets.append(df)\n",
    "print(f'total files: {len(datasets)}')"
   ]
  },
  {
   "cell_type": "code",
   "execution_count": 4,
   "id": "00051bf3",
   "metadata": {},
   "outputs": [
    {
     "name": "stderr",
     "output_type": "stream",
     "text": [
      "C:\\Users\\Public\\Documents\\ESTsoft\\CreatorTemp\\ipykernel_5972\\2973922749.py:2: DeprecationWarning: This function is deprecated. Please call randint(1, 959 + 1) instead\n",
      "  f=np.random.random_integers(1,len(datasets),1).item() #몇번째 파일을 선택할 것인지\n"
     ]
    }
   ],
   "source": [
    "#여러개 파일 중에 N번째 파일 선택\n",
    "f=np.random.random_integers(1,len(datasets),1).item() #몇번째 파일을 선택할 것인지\n",
    "dataset=datasets[f]"
   ]
  },
  {
   "cell_type": "code",
   "execution_count": 5,
   "id": "c376b04b",
   "metadata": {},
   "outputs": [],
   "source": [
    "def get_sample(dataset)->pd.DataFrame:\n",
    "    total_order_num=len(dataset.order_num.unique())\n",
    "    #파일 중 일부 order만 샘플링 후 수행\n",
    "    sample_order_num=np.random.random_integers(1,total_order_num,1) #N: 몇개의 order를 뽑을 것인지\n",
    "    sample_order=np.random.choice(total_order_num,size=sample_order_num,replace=False) #선택된 order_id\n",
    "    sample1=dataset[dataset['order_num'].isin(sample_order)] \n",
    "    print(f'{f}번째 파일, 주문 수: {sample_order_num}')\n",
    "    print(f'주문 id: {sample_order}')\n",
    "    return sample1, f, sample_order_num, sample_order"
   ]
  },
  {
   "cell_type": "code",
   "execution_count": 6,
   "id": "0727d798",
   "metadata": {},
   "outputs": [
    {
     "name": "stderr",
     "output_type": "stream",
     "text": [
      "C:\\Users\\Public\\Documents\\ESTsoft\\CreatorTemp\\ipykernel_5972\\1098011882.py:4: DeprecationWarning: This function is deprecated. Please call randint(1, 1002 + 1) instead\n",
      "  sample_order_num=np.random.random_integers(1,total_order_num,1) #N: 몇개의 order를 뽑을 것인지\n"
     ]
    },
    {
     "name": "stdout",
     "output_type": "stream",
     "text": [
      "907번째 파일, 주문 수: [391]\n",
      "주문 id: [ 509  668   15   18  479  955  124  365  285  127  437  162  952  699\n",
      "  306  718  109  837   89  446   52  316  233  146  419  538  258  844\n",
      "  673  873  943  219  357  248   21  959  449   88  497   33   72  129\n",
      "  682  223  377  406  701   74  159  243  606  708  346  547  941  704\n",
      "  382  304  577  350  849  568  433  661  355  734  812  818  345  733\n",
      "  543  766  154  582  931  707  732   32  232  868  675  183  609  474\n",
      "  366  203  289  113  308  324  409  514  642  483  647    3   96  775\n",
      "   56  702  505  117  240  544  492  912  347  649  164  759  872  966\n",
      "  806  515  245  426  136  326  293  621  898  138  692  631  194  229\n",
      "  683   95  451  506    6  590  381  879  928  660  488  265  295   24\n",
      "  221  693  949  522  995  470  622  963  387  386  858  712  318   65\n",
      "  494  700  626  604  261  147  897  527  788  216  555  801  845  691\n",
      "  672  554  585  960  726  772  651  911  374  802  918  541  598   11\n",
      "  131  104  267  337  325  964  438  108  478   84  262  589  100  206\n",
      "   39  165  300  149   16  263  881  808  111  646  445  476  122  456\n",
      "  358   61  558  957   51  832   20  361  860  459  416  452  876  303\n",
      "  757   82  798  821  294  569  783  575  271  204  410  141  457  999\n",
      "    7   31  669  768  984  989   86  106  905  643  764  471  313  986\n",
      "  327  401  728  321  906  398  153  625  477  753  904  828  932  197\n",
      "  636  862  760  372  490  890   23   53  914  118  521  648  605  545\n",
      "  342  518  560  272   40  688  227  603  226  671  375  600  526  469\n",
      "  307  360 1001  390  787  213    1  781  767  804  463  418  913  586\n",
      "   28  397  176  181  663  425  705  579  974  988   13  283  173  132\n",
      "  743  749  900  238  228  985   66  811  895  439  882  993  281  991\n",
      "  926   54  846  599  156  945  185  976  709   69  328  892  520  220\n",
      "  411  910  413   14  640  981  367    5   92  312   43  184  559   38\n",
      "  800  383  334  773  110  953  270  250  193  128  746  500  924  695\n",
      "  731  399  721  378  807  946  335  725  565  218   98  573  583]\n"
     ]
    }
   ],
   "source": [
    "sample,f,sample_order_num,sample_order=get_sample(dataset)"
   ]
  },
  {
   "cell_type": "code",
   "execution_count": null,
   "id": "1e34bb6e",
   "metadata": {},
   "outputs": [
    {
     "data": {
      "text/html": [
       "Tracking run with wandb version 0.21.1"
      ],
      "text/plain": [
       "<IPython.core.display.HTML object>"
      ]
     },
     "metadata": {},
     "output_type": "display_data"
    },
    {
     "data": {
      "text/html": [
       "Run data is saved locally in <code>e:\\glass_git\\AI-portfolio\\order_batch_picking\\wandb\\run-20250905_142742-a7u5b9nz</code>"
      ],
      "text/plain": [
       "<IPython.core.display.HTML object>"
      ]
     },
     "metadata": {},
     "output_type": "display_data"
    },
    {
     "data": {
      "text/html": [
       "Syncing run <strong><a href='https://wandb.ai/glasshan9140/OBP/runs/a7u5b9nz' target=\"_blank\">abc-250905_1427</a></strong> to <a href='https://wandb.ai/glasshan9140/OBP' target=\"_blank\">Weights & Biases</a> (<a href='https://wandb.me/developer-guide' target=\"_blank\">docs</a>)<br>"
      ],
      "text/plain": [
       "<IPython.core.display.HTML object>"
      ]
     },
     "metadata": {},
     "output_type": "display_data"
    },
    {
     "data": {
      "text/html": [
       " View project at <a href='https://wandb.ai/glasshan9140/OBP' target=\"_blank\">https://wandb.ai/glasshan9140/OBP</a>"
      ],
      "text/plain": [
       "<IPython.core.display.HTML object>"
      ]
     },
     "metadata": {},
     "output_type": "display_data"
    },
    {
     "data": {
      "text/html": [
       " View run at <a href='https://wandb.ai/glasshan9140/OBP/runs/a7u5b9nz' target=\"_blank\">https://wandb.ai/glasshan9140/OBP/runs/a7u5b9nz</a>"
      ],
      "text/plain": [
       "<IPython.core.display.HTML object>"
      ]
     },
     "metadata": {},
     "output_type": "display_data"
    }
   ],
   "source": [
    "logger = logging.getLogger(\"mealpy\")\n",
    "logger.setLevel(logging.INFO)\n",
    "logger.propagate = False  # 중복 출력 방지 (필요 시)\n",
    "if not any(isinstance(h, WandbHandler) for h in logger.handlers):\n",
    "    logger.addHandler(WandbHandler())\n",
    "\n",
    "    \n",
    "location=pd.read_csv('E:/glass_git/AI-portfolio/order_batch_picking/data/Distance matrix/location.csv')\n",
    "dist_matrix=pd.read_pickle('E:/glass_git/AI-portfolio/order_batch_picking/data/Distance matrix/dist_matrix.pkl')\n",
    "dist_matrix=dist_matrix.to_numpy()\n",
    "\n",
    "try_id=time.strftime('%y%m%d_%H%M')\n",
    "K = 10\n",
    "ALPHA = 0.8\n",
    "model_params={'epoch':1000 , 'popsize': 100, 'nlimits': 3 , 'seed': 42} \n",
    "\n",
    "wbrun=wb.init(project=\"OBP\", name=f\"abc-{try_id}\", \n",
    "        config=dict(\n",
    "            algo=\"ABC\", \n",
    "            epoch=model_params.get('epoch'), \n",
    "            pop_size=model_params.get('popsize'), \n",
    "            n_limits=model_params.get('nlimits'), \n",
    "            seed=model_params.get('seed'),\n",
    "            data_file_num=f,\n",
    "            the_number_of_orders=sample_order_num,\n",
    "            orders_id=sample_order,\n",
    "            job=K,\n",
    "            alpha=ALPHA,\n",
    "            depot=0\n",
    "))\n",
    "\n",
    "with wbrun:\n",
    "    obp=OBP(dist_matrix,sample,location, K,ALPHA)\n",
    "    model=obp.model(model_params)\n",
    "    best=obp.run(model)"
   ]
  },
  {
   "cell_type": "code",
   "execution_count": null,
   "id": "842df301",
   "metadata": {},
   "outputs": [],
   "source": [
    "save_path=f'E:/glass_git/AI-portfolio/order_batch_picking/result/{wbrun.name}.png'\n",
    "obp.result(best,location,save_path)"
   ]
  },
  {
   "cell_type": "code",
   "execution_count": null,
   "id": "de4dd6d6",
   "metadata": {},
   "outputs": [],
   "source": [
    "Model_list=['AEO','WaOA','ServalOA','STO']\n",
    "\n",
    "for model_name in Model_list:\n",
    "    try_id=time.strftime('%y%m%d_%H%M')\n",
    "    K = 10\n",
    "    ALPHA = 0.8\n",
    "    model_params={'epoch':1000 , 'popsize': 100, 'nlimits': 3 , 'seed': 42} \n",
    "\n",
    "    wbrun=wb.init(project=\"OBP\", name=f\"{model_name}-{try_id}\", \n",
    "            config=dict(\n",
    "                algo=model_name, \n",
    "                epoch=model_params.get('epoch'), \n",
    "                pop_size=model_params.get('popsize'), \n",
    "                n_limits=model_params.get('nlimits'), \n",
    "                seed=model_params.get('seed'),\n",
    "                data_file_num=f,\n",
    "                the_number_of_orders=sample_order_num,\n",
    "                orders_id=sample_order,\n",
    "                job=K,\n",
    "                alpha=ALPHA,\n",
    "                depot=0\n",
    "    ))\n",
    "\n",
    "    with wbrun:\n",
    "        obp=OBP(model_name,dist_matrix,sample,location, K,ALPHA)\n",
    "        model=obp.model(model_params)\n",
    "        best=obp.run(model)"
   ]
  }
 ],
 "metadata": {
  "kernelspec": {
   "display_name": "glass",
   "language": "python",
   "name": "python3"
  },
  "language_info": {
   "codemirror_mode": {
    "name": "ipython",
    "version": 3
   },
   "file_extension": ".py",
   "mimetype": "text/x-python",
   "name": "python",
   "nbconvert_exporter": "python",
   "pygments_lexer": "ipython3",
   "version": "3.12.0"
  }
 },
 "nbformat": 4,
 "nbformat_minor": 5
}
