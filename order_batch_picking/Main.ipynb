{
 "cells": [
  {
   "cell_type": "code",
   "execution_count": 4,
   "id": "a69af572",
   "metadata": {},
   "outputs": [],
   "source": [
    "import pandas as pd\n",
    "import numpy as np\n",
    "import os\n",
    "import math\n",
    "import matplotlib.pyplot as plt\n",
    "import seaborn as sns\n",
    "import plotly.express as px\n",
    "import glob\n",
    "import wandb as wb\n",
    "from src.MetaHeauristic import WandbHandler, OBP\n",
    "import re, logging\n",
    "import time\n",
    "import json\n",
    "from pathlib import Path"
   ]
  },
  {
   "cell_type": "code",
   "execution_count": 5,
   "id": "bb29b7ce",
   "metadata": {},
   "outputs": [
    {
     "data": {
      "text/plain": [
       "True"
      ]
     },
     "execution_count": 5,
     "metadata": {},
     "output_type": "execute_result"
    }
   ],
   "source": [
    "wb.login()"
   ]
  },
  {
   "cell_type": "code",
   "execution_count": null,
   "id": "de4dd6d6",
   "metadata": {},
   "outputs": [
    {
     "name": "stderr",
     "output_type": "stream",
     "text": [
      "<>:7: SyntaxWarning: invalid escape sequence '\\g'\n",
      "<>:7: SyntaxWarning: invalid escape sequence '\\g'\n",
      "<>:7: SyntaxWarning: invalid escape sequence '\\g'\n",
      "<>:7: SyntaxWarning: invalid escape sequence '\\g'\n",
      "C:\\Users\\Public\\Documents\\ESTsoft\\CreatorTemp\\ipykernel_2896\\2136151357.py:7: SyntaxWarning: invalid escape sequence '\\g'\n",
      "  sample=pd.read_csv('E:\\glass_git\\AI-portfolio\\order_batch_picking\\data\\Order\\episode1_orders.csv')\n",
      "C:\\Users\\Public\\Documents\\ESTsoft\\CreatorTemp\\ipykernel_2896\\2136151357.py:7: SyntaxWarning: invalid escape sequence '\\g'\n",
      "  sample=pd.read_csv('E:\\glass_git\\AI-portfolio\\order_batch_picking\\data\\Order\\episode1_orders.csv')\n"
     ]
    },
    {
     "ename": "SyntaxError",
     "evalue": "invalid syntax. Perhaps you forgot a comma? (2136151357.py, line 23)",
     "output_type": "error",
     "traceback": [
      "\u001b[1;36m  Cell \u001b[1;32mIn[6], line 23\u001b[1;36m\u001b[0m\n\u001b[1;33m    wbrun=wb.init(project=\"OBP\", mode='offline' name=f\"{model_name}-{try_id}\",\u001b[0m\n\u001b[1;37m                                      ^\u001b[0m\n\u001b[1;31mSyntaxError\u001b[0m\u001b[1;31m:\u001b[0m invalid syntax. Perhaps you forgot a comma?\n"
     ]
    }
   ],
   "source": [
    "logger = logging.getLogger(\"mealpy\")\n",
    "logger.setLevel(logging.INFO)\n",
    "logger.propagate = False  # 중복 출력 방지 (필요 시)\n",
    "if not any(isinstance(h, WandbHandler) for h in logger.handlers):\n",
    "    logger.addHandler(WandbHandler())\n",
    "\n",
    "sample=pd.read_csv('E:\\glass_git\\AI-portfolio\\order_batch_picking\\data\\Order\\episode1_orders.csv')\n",
    "location=pd.read_csv('E:/glass_git/AI-portfolio/order_batch_picking/data/Distance matrix/location.csv')\n",
    "dist_matrix=pd.read_pickle('E:/glass_git/AI-portfolio/order_batch_picking/data/Distance matrix/dist_matrix.pkl')\n",
    "dist_matrix=dist_matrix.to_numpy()\n",
    "\n",
    "try_id=time.strftime('%y%m%d_%H%M')\n",
    "K = 4\n",
    "ALPHA = 0.8\n",
    "model_params={'epoch':500 , 'popsize': 1000, 'nlimits': 3 , 'seed': 42} \n",
    "\n",
    "\n",
    "Model_list=['HHO'] #,\n",
    "\n",
    "for model_name in Model_list:\n",
    "    try_id=time.strftime('%y%m%d_%H%M')\n",
    "\n",
    "    wbrun=wb.init(project=\"OBP\", mode='offline', name=f\"{model_name}-{try_id}\", \n",
    "            config=dict(\n",
    "                algo=model_name, \n",
    "                epoch=model_params.get('epoch'), \n",
    "                pop_size=model_params.get('popsize'), \n",
    "                n_limits=model_params.get('nlimits'), \n",
    "                seed=model_params.get('seed'),\n",
    "                data_file_num='episode1',\n",
    "                the_number_of_orders=len(sample),\n",
    "                orders_id=sample['order_num'].unique().tolist(),\n",
    "                job=K,\n",
    "                alpha=ALPHA,\n",
    "                depot=0\n",
    "    ))\n",
    "    artifact = wb.Artifact(\"best_solution\", type=\"dataset\")\n",
    "    with wbrun:\n",
    "        obp=OBP(model_name,dist_matrix,sample,location, K,ALPHA)\n",
    "        model=obp.model(model_params)\n",
    "        best=obp.run(model)\n",
    "    \n",
    "    print(f'best solution: {best.solution}, best fitness: {best.target.fitness}')\n",
    "    np.save(f\"./result/{wbrun.name}_best_solution.npy\", best.solution)\n",
    "    artifact.add_file(f\"./result/{wbrun.name}_best_solution.npy\",name=f'{wbrun.name}_best_solution.npy')\n",
    "    artifact.save()\n",
    "    save_path=f'E:/glass_git/AI-portfolio/order_batch_picking/result/{wbrun.name}.png'\n",
    "    obp.result(best,location,save_path)\n",
    "wbrun.finish()"
   ]
  }
 ],
 "metadata": {
  "kernelspec": {
   "display_name": "glass",
   "language": "python",
   "name": "python3"
  },
  "language_info": {
   "codemirror_mode": {
    "name": "ipython",
    "version": 3
   },
   "file_extension": ".py",
   "mimetype": "text/x-python",
   "name": "python",
   "nbconvert_exporter": "python",
   "pygments_lexer": "ipython3",
   "version": "3.12.0"
  }
 },
 "nbformat": 4,
 "nbformat_minor": 5
}
