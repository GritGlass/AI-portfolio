{
 "cells": [
  {
   "cell_type": "code",
   "execution_count": 1,
   "id": "a69af572",
   "metadata": {},
   "outputs": [],
   "source": [
    "import pandas as pd\n",
    "import numpy as np\n",
    "import os\n",
    "import math\n",
    "import matplotlib.pyplot as plt\n",
    "import seaborn as sns\n",
    "import plotly.express as px\n",
    "import glob\n",
    "import wandb as wb\n",
    "from src.MetaHeauristic import WandbHandler, OBP\n",
    "import re, logging\n",
    "import time\n",
    "import json"
   ]
  },
  {
   "cell_type": "code",
   "execution_count": 2,
   "id": "bb29b7ce",
   "metadata": {},
   "outputs": [
    {
     "name": "stderr",
     "output_type": "stream",
     "text": [
      "wandb: Currently logged in as: glasshan914 (glasshan9140) to https://api.wandb.ai. Use `wandb login --relogin` to force relogin\n"
     ]
    },
    {
     "data": {
      "text/plain": [
       "True"
      ]
     },
     "execution_count": 2,
     "metadata": {},
     "output_type": "execute_result"
    }
   ],
   "source": [
    "wb.login()"
   ]
  },
  {
   "cell_type": "code",
   "execution_count": 3,
   "id": "da918e44",
   "metadata": {},
   "outputs": [],
   "source": [
    "# def get_sample(dataset)->pd.DataFrame:\n",
    "#     total_order_num=len(dataset.order_num.unique())\n",
    "#     #파일 중 일부 order만 샘플링 후 수행\n",
    "#     sample_order_num=np.random.random_integers(1,total_order_num,1) #N: 몇개의 order를 뽑을 것인지\n",
    "#     sample_order=np.random.choice(total_order_num,size=sample_order_num,replace=False) #선택된 order_id\n",
    "#     sample1=dataset[dataset['order_num'].isin(sample_order)] \n",
    "#     print(f'{f}번째 파일, 주문 수: {sample_order_num}')\n",
    "#     print(f'주문 id: {sample_order}')\n",
    "#     return sample1, f, sample_order_num, sample_order\n",
    "\n",
    "\n",
    "# folder_list=glob.glob('E:/glass_git/AI-portfolio/order_batch_picking/data/Orderlinelist/*.txt')\n",
    "# dist_matrix=pd.read_pickle('E:/glass_git/AI-portfolio/order_batch_picking/data/Distance matrix/dist_matrix.pkl')\n",
    "# dist_matrix=dist_matrix.to_numpy()\n",
    "\n",
    "# datasets=[]\n",
    "# for file in folder_list:\n",
    "#     df=pd.read_csv(file,sep='\\t',header=None)\n",
    "#     cols=['order_num','index','rack','bay','tier','slot']\n",
    "#     df.columns=cols\n",
    "#     datasets.append(df)\n",
    "# print(f'total files: {len(datasets)}')\n",
    "\n",
    "# #여러개 파일 중에 N번째 파일 선택\n",
    "# f=np.random.random_integers(1,len(datasets),1).item() #몇번째 파일을 선택할 것인지\n",
    "# dataset=datasets[f]\n",
    "\n",
    "# #데이터 샘플링\n",
    "# sample,f,sample_order_num,sample_order=get_sample(dataset)"
   ]
  },
  {
   "cell_type": "code",
   "execution_count": 4,
   "id": "1e34bb6e",
   "metadata": {},
   "outputs": [],
   "source": [
    "# logger = logging.getLogger(\"mealpy\")\n",
    "# logger.setLevel(logging.INFO)\n",
    "# logger.propagate = False  # 중복 출력 방지 (필요 시)\n",
    "# if not any(isinstance(h, WandbHandler) for h in logger.handlers):\n",
    "#     logger.addHandler(WandbHandler())\n",
    "\n",
    "# sample=pd.read_csv('E:\\glass_git\\AI-portfolio\\order_batch_picking\\data\\Order\\episode1_orders.csv')\n",
    "# location=pd.read_csv('E:/glass_git/AI-portfolio/order_batch_picking/data/Distance matrix/location.csv')\n",
    "# dist_matrix=pd.read_pickle('E:/glass_git/AI-portfolio/order_batch_picking/data/Distance matrix/dist_matrix.pkl')\n",
    "# dist_matrix=dist_matrix.to_numpy()\n",
    "\n",
    "# try_id=time.strftime('%y%m%d_%H%M')\n",
    "# K = 10\n",
    "# ALPHA = 0.8\n",
    "# model_params={'epoch':1000 , 'popsize': 100, 'nlimits': 3 , 'seed': 42} \n",
    "\n",
    "# wbrun=wb.init(project=\"OBP\", name=f\"abc-{try_id}\", \n",
    "#         config=dict(\n",
    "#             algo=\"ABC\", \n",
    "#             epoch=model_params.get('epoch'), \n",
    "#             pop_size=model_params.get('popsize'), \n",
    "#             n_limits=model_params.get('nlimits'), \n",
    "#             seed=model_params.get('seed'),s\n",
    "#             data_file_num='episode1',\n",
    "#             the_number_of_orders=len(sample),\n",
    "#             orders_id=sample['order_num'].unique().tolist(),\n",
    "#             job=K,\n",
    "#             alpha=ALPHA,\n",
    "#             depot=0\n",
    "# ))\n",
    "\n",
    "# with wbrun:\n",
    "#     obp=OBP(dist_matrix,sample,location, K,ALPHA)\n",
    "#     model=obp.model(model_params)\n",
    "#     best=obp.run(model)"
   ]
  },
  {
   "cell_type": "code",
   "execution_count": null,
   "id": "de4dd6d6",
   "metadata": {},
   "outputs": [
    {
     "name": "stderr",
     "output_type": "stream",
     "text": [
      "<>:7: SyntaxWarning: invalid escape sequence '\\g'\n",
      "<>:7: SyntaxWarning: invalid escape sequence '\\g'\n",
      "C:\\Users\\Public\\Documents\\ESTsoft\\CreatorTemp\\ipykernel_30056\\2288080359.py:7: SyntaxWarning: invalid escape sequence '\\g'\n",
      "  sample=pd.read_csv('E:\\glass_git\\AI-portfolio\\order_batch_picking\\data\\Order\\episode1_orders.csv')\n"
     ]
    },
    {
     "data": {
      "text/html": [
       "Tracking run with wandb version 0.21.1"
      ],
      "text/plain": [
       "<IPython.core.display.HTML object>"
      ]
     },
     "metadata": {},
     "output_type": "display_data"
    },
    {
     "data": {
      "text/html": [
       "Run data is saved locally in <code>e:\\glass_git\\AI-portfolio\\order_batch_picking\\wandb\\run-20250908_180824-meak3yi0</code>"
      ],
      "text/plain": [
       "<IPython.core.display.HTML object>"
      ]
     },
     "metadata": {},
     "output_type": "display_data"
    },
    {
     "data": {
      "text/html": [
       "Syncing run <strong><a href='https://wandb.ai/glasshan9140/OBP/runs/meak3yi0' target=\"_blank\">SPO-250908_1808</a></strong> to <a href='https://wandb.ai/glasshan9140/OBP' target=\"_blank\">Weights & Biases</a> (<a href='https://wandb.me/developer-guide' target=\"_blank\">docs</a>)<br>"
      ],
      "text/plain": [
       "<IPython.core.display.HTML object>"
      ]
     },
     "metadata": {},
     "output_type": "display_data"
    },
    {
     "data": {
      "text/html": [
       " View project at <a href='https://wandb.ai/glasshan9140/OBP' target=\"_blank\">https://wandb.ai/glasshan9140/OBP</a>"
      ],
      "text/plain": [
       "<IPython.core.display.HTML object>"
      ]
     },
     "metadata": {},
     "output_type": "display_data"
    },
    {
     "data": {
      "text/html": [
       " View run at <a href='https://wandb.ai/glasshan9140/OBP/runs/meak3yi0' target=\"_blank\">https://wandb.ai/glasshan9140/OBP/runs/meak3yi0</a>"
      ],
      "text/plain": [
       "<IPython.core.display.HTML object>"
      ]
     },
     "metadata": {},
     "output_type": "display_data"
    },
    {
     "name": "stderr",
     "output_type": "stream",
     "text": [
      "C:\\Users\\Public\\Documents\\ESTsoft\\CreatorTemp\\ipykernel_30056\\2288080359.py:7: SyntaxWarning: invalid escape sequence '\\g'\n",
      "  sample=pd.read_csv('E:\\glass_git\\AI-portfolio\\order_batch_picking\\data\\Order\\episode1_orders.csv')\n"
     ]
    },
    {
     "ename": "AttributeError",
     "evalue": "'Run' object has no attribute 'Artifact'",
     "output_type": "error",
     "traceback": [
      "\u001b[1;31m---------------------------------------------------------------------------\u001b[0m",
      "\u001b[1;31mAttributeError\u001b[0m                            Traceback (most recent call last)",
      "Cell \u001b[1;32mIn[5], line 37\u001b[0m\n\u001b[0;32m     21\u001b[0m try_id\u001b[38;5;241m=\u001b[39mtime\u001b[38;5;241m.\u001b[39mstrftime(\u001b[38;5;124m'\u001b[39m\u001b[38;5;124m%\u001b[39m\u001b[38;5;124my\u001b[39m\u001b[38;5;124m%\u001b[39m\u001b[38;5;124mm\u001b[39m\u001b[38;5;132;01m%d\u001b[39;00m\u001b[38;5;124m_\u001b[39m\u001b[38;5;124m%\u001b[39m\u001b[38;5;124mH\u001b[39m\u001b[38;5;124m%\u001b[39m\u001b[38;5;124mM\u001b[39m\u001b[38;5;124m'\u001b[39m)\n\u001b[0;32m     23\u001b[0m wbrun\u001b[38;5;241m=\u001b[39mwb\u001b[38;5;241m.\u001b[39minit(project\u001b[38;5;241m=\u001b[39m\u001b[38;5;124m\"\u001b[39m\u001b[38;5;124mOBP\u001b[39m\u001b[38;5;124m\"\u001b[39m, name\u001b[38;5;241m=\u001b[39m\u001b[38;5;124mf\u001b[39m\u001b[38;5;124m\"\u001b[39m\u001b[38;5;132;01m{\u001b[39;00mmodel_name\u001b[38;5;132;01m}\u001b[39;00m\u001b[38;5;124m-\u001b[39m\u001b[38;5;132;01m{\u001b[39;00mtry_id\u001b[38;5;132;01m}\u001b[39;00m\u001b[38;5;124m\"\u001b[39m, \n\u001b[0;32m     24\u001b[0m         config\u001b[38;5;241m=\u001b[39m\u001b[38;5;28mdict\u001b[39m(\n\u001b[0;32m     25\u001b[0m             algo\u001b[38;5;241m=\u001b[39mmodel_name, \n\u001b[1;32m   (...)\u001b[0m\n\u001b[0;32m     35\u001b[0m             depot\u001b[38;5;241m=\u001b[39m\u001b[38;5;241m0\u001b[39m\n\u001b[0;32m     36\u001b[0m ))\n\u001b[1;32m---> 37\u001b[0m artifact \u001b[38;5;241m=\u001b[39m \u001b[43mwbrun\u001b[49m\u001b[38;5;241;43m.\u001b[39;49m\u001b[43mArtifact\u001b[49m(\u001b[38;5;124m\"\u001b[39m\u001b[38;5;124mbest_solution\u001b[39m\u001b[38;5;124m\"\u001b[39m, \u001b[38;5;28mtype\u001b[39m\u001b[38;5;241m=\u001b[39m\u001b[38;5;124m\"\u001b[39m\u001b[38;5;124mdataset\u001b[39m\u001b[38;5;124m\"\u001b[39m)\n\u001b[0;32m     38\u001b[0m \u001b[38;5;28;01mwith\u001b[39;00m wbrun:\n\u001b[0;32m     39\u001b[0m     obp\u001b[38;5;241m=\u001b[39mOBP(model_name,dist_matrix,sample,location, K,ALPHA)\n",
      "\u001b[1;31mAttributeError\u001b[0m: 'Run' object has no attribute 'Artifact'"
     ]
    }
   ],
   "source": [
    "logger = logging.getLogger(\"mealpy\")\n",
    "logger.setLevel(logging.INFO)\n",
    "logger.propagate = False  # 중복 출력 방지 (필요 시)\n",
    "if not any(isinstance(h, WandbHandler) for h in logger.handlers):\n",
    "    logger.addHandler(WandbHandler())\n",
    "\n",
    "sample=pd.read_csv('E:\\glass_git\\AI-portfolio\\order_batch_picking\\data\\Order\\episode1_orders.csv')\n",
    "location=pd.read_csv('E:/glass_git/AI-portfolio/order_batch_picking/data/Distance matrix/location.csv')\n",
    "dist_matrix=pd.read_pickle('E:/glass_git/AI-portfolio/order_batch_picking/data/Distance matrix/dist_matrix.pkl')\n",
    "dist_matrix=dist_matrix.to_numpy()\n",
    "\n",
    "try_id=time.strftime('%y%m%d_%H%M')\n",
    "K = 4\n",
    "ALPHA = 0.8\n",
    "model_params={'epoch':500 , 'popsize': 100, 'nlimits': 3 , 'seed': 42} \n",
    "\n",
    "\n",
    "Model_list=['SPO','HHO','ABC','WaOA','ServalOA','STO'] #,\n",
    "\n",
    "for model_name in Model_list:\n",
    "    try_id=time.strftime('%y%m%d_%H%M')\n",
    "\n",
    "    wbrun=wb.init(project=\"OBP\", name=f\"{model_name}-{try_id}\", \n",
    "            config=dict(\n",
    "                algo=model_name, \n",
    "                epoch=model_params.get('epoch'), \n",
    "                pop_size=model_params.get('popsize'), \n",
    "                n_limits=model_params.get('nlimits'), \n",
    "                seed=model_params.get('seed'),\n",
    "                data_file_num='episode1',\n",
    "                the_number_of_orders=len(sample),\n",
    "                orders_id=sample['order_num'].unique().tolist(),\n",
    "                job=K,\n",
    "                alpha=ALPHA,\n",
    "                depot=0\n",
    "    ))\n",
    "    artifact = wb.Artifact(\"best_solution\", type=\"dataset\")\n",
    "    with wbrun:\n",
    "        obp=OBP(model_name,dist_matrix,sample,location, K,ALPHA)\n",
    "        model=obp.model(model_params)\n",
    "        best=obp.run(model)\n",
    "    \n",
    "    print(f'best solution: {best.solution}, best fitness: {best.target.fitness}')\n",
    "    with open(\"best_solution.json\", \"w\") as f:\n",
    "        json.dump(best.solution, f)\n",
    "    artifact.add_file(\"best_solution.json\",name=f'{wbrun.name}_best_solution.json')\n",
    "    artifact.save()\n",
    "    save_path=f'E:/glass_git/AI-portfolio/order_batch_picking/result/{wbrun.name}.png'\n",
    "    obp.result(best,location,save_path)\n",
    "wbrun.finish()"
   ]
  },
  {
   "cell_type": "code",
   "execution_count": null,
   "id": "eec83d64",
   "metadata": {},
   "outputs": [],
   "source": []
  }
 ],
 "metadata": {
  "kernelspec": {
   "display_name": "glass",
   "language": "python",
   "name": "python3"
  },
  "language_info": {
   "codemirror_mode": {
    "name": "ipython",
    "version": 3
   },
   "file_extension": ".py",
   "mimetype": "text/x-python",
   "name": "python",
   "nbconvert_exporter": "python",
   "pygments_lexer": "ipython3",
   "version": "3.12.0"
  }
 },
 "nbformat": 4,
 "nbformat_minor": 5
}
